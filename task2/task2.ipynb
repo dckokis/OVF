{
 "cells": [
  {
   "cell_type": "code",
   "execution_count": 34,
   "metadata": {
    "collapsed": true
   },
   "outputs": [],
   "source": [
    "import numpy as np\n",
    "np.seterr(divide='ignore');"
   ]
  },
  {
   "cell_type": "code",
   "execution_count": 35,
   "outputs": [],
   "source": [
    "a = 2\n",
    "U0 = 1.5\n",
    "E0 = -0.95\n",
    "precision = 10e-9"
   ],
   "metadata": {
    "collapsed": false
   }
  },
  {
   "cell_type": "code",
   "execution_count": 36,
   "outputs": [],
   "source": [
    "def f(E):\n",
    "\treturn (1 / np.tan(np.sqrt(2 * a ** 2 * U0 * (1 + E / U0)))) - np.sqrt(-U0 / E - 1)\n",
    "\n",
    "def df(E):\n",
    "\treturn - (a ** 2) / (\n",
    "\t\t\t(np.sin(np.sqrt(2 * a * 2 * U0 * (1 + E / U0))) ** 2) * np.sqrt(2 * a ** 2 * U0 * (1 + E / U0))) - (\n",
    "\t\t\t\t   U0 / 2) / (E ** 2 * ((-U0 / E) - 1))"
   ],
   "metadata": {
    "collapsed": false
   }
  },
  {
   "cell_type": "markdown",
   "source": [
    "Начальный интервал для метода дихотомии находим из $\\cot(\\sqrt{2a^2U_{0}(1 + \\frac{E}{U_{0}})}) = 0$\n",
    "Тогда $\\sqrt{2a^2U_{0}(1 + \\frac{E}{U_{0}})} = \\frac{\\pi}{2} + \\pi n$\n",
    "И $E = \\frac{\\pi^2}{8a^2} - U_{0}$"
   ],
   "metadata": {
    "collapsed": false
   }
  },
  {
   "cell_type": "code",
   "execution_count": 37,
   "outputs": [],
   "source": [
    "def dichotomy(a, b, error=precision):\n",
    "\tmiddle = (a + b) / 2\n",
    "\tcurError = (b - a) / 2\n",
    "\tif curError < error:\n",
    "\t\treturn middle\n",
    "\treturn dichotomy(a, middle) if f(middle) * f(a) <= 0 else dichotomy(middle, b)\n",
    "\n",
    "x_0 = -U0\n",
    "x_1 = (np.pi ** 2) / (8 * a ** 2) - U0\n",
    "dichotomyRoot = dichotomy(x_0, x_1)\n",
    "\n",
    "# в качестве начального приближения возьмем корень, полученный методом дихотомии\n",
    "x_initial = dichotomyRoot\n",
    "Lambda = 1 / df(x_initial) + 0.001\n",
    "\n",
    "def fixedPointIteration(x, x0=x_initial, error=precision):\n",
    "\tif df(x) < 1:\n",
    "\t\tvalue = x - Lambda * f(x)\n",
    "\t\tcurError = np.abs(x0 - x)\n",
    "\t\treturn fixedPointIteration(value) if curError > error else x\n",
    "\n",
    "fixPointIterRoot = fixedPointIteration(E0)\n",
    "\n",
    "def Newton(x, error=precision):\n",
    "\tvalue = x - f(x) / df(x)\n",
    "\tcurError = np.abs(fixPointIterRoot - x)\n",
    "\treturn Newton(value) if curError > error else x\n",
    "\n",
    "newtonRoot = Newton(E0)"
   ],
   "metadata": {
    "collapsed": false
   }
  },
  {
   "cell_type": "code",
   "execution_count": 38,
   "outputs": [
    {
     "name": "stdout",
     "output_type": "stream",
     "text": [
      "NewtonMethod              -1.3160669823541098\n",
      "f(-1.3160669823541098) = -2.8810002661305845e-08\n",
      "FixedPointIterationsMethod-1.3160669879566542\n",
      "f(-1.3160669879566542) = -1.2642940028229077e-09\n",
      "DichotomyMethod           -1.316066997326563\n",
      "f(-1.316066997326563) = 4.4804200849402065e-08\n"
     ]
    }
   ],
   "source": [
    "print('NewtonMethod              ' + str(newtonRoot))\n",
    "print('f({}) = {}'.format(newtonRoot, f(newtonRoot)))\n",
    "print('FixedPointIterationsMethod' + str(fixPointIterRoot))\n",
    "print('f({}) = {}'.format(fixPointIterRoot, f(fixPointIterRoot)))\n",
    "print('DichotomyMethod           ' + str(dichotomyRoot))\n",
    "print('f({}) = {}'.format(dichotomyRoot, f(dichotomyRoot)))"
   ],
   "metadata": {
    "collapsed": false
   }
  }
 ],
 "metadata": {
  "kernelspec": {
   "display_name": "Python 3",
   "language": "python",
   "name": "python3"
  },
  "language_info": {
   "codemirror_mode": {
    "name": "ipython",
    "version": 2
   },
   "file_extension": ".py",
   "mimetype": "text/x-python",
   "name": "python",
   "nbconvert_exporter": "python",
   "pygments_lexer": "ipython2",
   "version": "2.7.6"
  }
 },
 "nbformat": 4,
 "nbformat_minor": 0
}
