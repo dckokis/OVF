{
 "cells": [
  {
   "cell_type": "code",
   "execution_count": 314,
   "metadata": {
    "collapsed": true
   },
   "outputs": [],
   "source": [
    "import numpy as np"
   ]
  },
  {
   "cell_type": "code",
   "execution_count": 315,
   "outputs": [],
   "source": [
    "a = 1\n",
    "U0 = 1\n",
    "E0 = -0.95\n",
    "precision = 10e-9"
   ],
   "metadata": {
    "collapsed": false
   }
  },
  {
   "cell_type": "code",
   "execution_count": 316,
   "outputs": [],
   "source": [
    "def f(E):\n",
    "\treturn (1 / np.tan(np.sqrt(2 * a ** 2 * U0 * (1 + E / U0)))) - np.sqrt(-U0 / E - 1)\n",
    "\n",
    "def df(E):\n",
    "\treturn - (a ** 2) / (\n",
    "\t\t\t(np.sin(np.sqrt(2 * a * 2 * U0 * (1 + E / U0))) ** 2) * np.sqrt(2 * a ** 2 * U0 * (1 + E / U0))) - (\n",
    "\t\t\t\t   U0 / 2) / (E ** 2 * ((-U0 / E) - 1))"
   ],
   "metadata": {
    "collapsed": false
   }
  },
  {
   "cell_type": "code",
   "execution_count": 317,
   "outputs": [
    {
     "name": "stderr",
     "output_type": "stream",
     "text": [
      "C:\\Users\\константин\\AppData\\Local\\Temp\\ipykernel_17448\\3627897899.py:2: RuntimeWarning: divide by zero encountered in double_scalars\n",
      "  return (1 / np.tan(np.sqrt(2 * a ** 2 * U0 * (1 + E / U0)))) - np.sqrt(-U0 / E - 1)\n"
     ]
    }
   ],
   "source": [
    "def dichotomy(a, b, error=precision):\n",
    "\tmiddle = (a + b) / 2\n",
    "\tcurError = (b - a) / 2\n",
    "\tif curError < error:\n",
    "\t\treturn middle\n",
    "\treturn dichotomy(a, middle) if f(middle) * f(a) <= 0 else dichotomy(middle, b)\n",
    "\n",
    "x_0 = -1\n",
    "x_1 = -0\n",
    "dichotomyRoot = dichotomy(x_0, x_1)\n",
    "\n",
    "# в качестве начального приближения возьмем корень, полученный методом дихотомии\n",
    "x_initial = dichotomyRoot\n",
    "Lambda = 1 / df(x_initial) + 0.001\n",
    "\n",
    "def fixedPointIteration(x, x0=x_initial, error=precision):\n",
    "\tvalue = x - Lambda * f(x)\n",
    "\tcurError = np.abs(x0 - x)\n",
    "\treturn fixedPointIteration(value) if curError > error else x\n",
    "\n",
    "fixPointIterRoot = fixedPointIteration(E0)\n",
    "\n",
    "def Newton(x, error=precision):\n",
    "\tvalue = x - f(x) / df(x)\n",
    "\tcurError = np.abs(fixPointIterRoot - x)\n",
    "\treturn Newton(value) if curError > error else x\n",
    "\n",
    "newtonRoot = Newton(E0)"
   ],
   "metadata": {
    "collapsed": false
   }
  },
  {
   "cell_type": "code",
   "execution_count": 318,
   "outputs": [
    {
     "name": "stdout",
     "output_type": "stream",
     "text": [
      "NewtonMethod - -0.6038978305858146\n",
      "f(-0.6038978305858146) = -1.164625840210931e-08\n",
      "FixedPointIterationsMethod - -0.6038978353098972\n",
      "f(-0.6038978353098972) = 5.139872416570768e-09\n",
      "DichotomyMethod - -0.6038978323340416\n",
      "f(-0.6038978323340416) = -5.4342654820516145e-09\n"
     ]
    }
   ],
   "source": [
    "print('NewtonMethod - ' + str(newtonRoot))\n",
    "print('f({}) = {}'.format(newtonRoot, f(newtonRoot)))\n",
    "print('FixedPointIterationsMethod - ' + str(fixPointIterRoot))\n",
    "print('f({}) = {}'.format(fixPointIterRoot, f(fixPointIterRoot)))\n",
    "print('DichotomyMethod - ' + str(dichotomyRoot))\n",
    "print('f({}) = {}'.format(dichotomyRoot, f(dichotomyRoot)))"
   ],
   "metadata": {
    "collapsed": false
   }
  }
 ],
 "metadata": {
  "kernelspec": {
   "display_name": "Python 3",
   "language": "python",
   "name": "python3"
  },
  "language_info": {
   "codemirror_mode": {
    "name": "ipython",
    "version": 2
   },
   "file_extension": ".py",
   "mimetype": "text/x-python",
   "name": "python",
   "nbconvert_exporter": "python",
   "pygments_lexer": "ipython2",
   "version": "2.7.6"
  }
 },
 "nbformat": 4,
 "nbformat_minor": 0
}
