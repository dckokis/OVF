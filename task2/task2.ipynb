{
 "cells": [
  {
   "cell_type": "code",
   "execution_count": 1,
   "metadata": {
    "collapsed": true
   },
   "outputs": [],
   "source": [
    "import numpy as np\n",
    "\n",
    "np.seterr(divide='ignore');"
   ]
  },
  {
   "cell_type": "code",
   "execution_count": 2,
   "outputs": [],
   "source": [
    "a = 1\n",
    "U0 = 1\n",
    "E0 = -0.5\n",
    "precision = 10e-15"
   ],
   "metadata": {
    "collapsed": false
   }
  },
  {
   "cell_type": "code",
   "execution_count": 3,
   "outputs": [],
   "source": [
    "def f(E : float):\n",
    "\treturn (1 / np.tan(np.sqrt(2 * a ** 2 * U0 * (1 + E / U0)))) - np.sqrt(-U0 / E - 1)\n",
    "\n",
    "def df(E : float):\n",
    "\treturn - (a ** 2) / (\n",
    "\t\t\t(np.sin(np.sqrt(2 * a * 2 * U0 * (1 + E / U0))) ** 2) * np.sqrt(2 * a ** 2 * U0 * (1 + E / U0))) - (\n",
    "\t\t\t\t   U0 / 2) / (E ** 2 * ((-U0 / E) - 1))"
   ],
   "metadata": {
    "collapsed": false
   }
  },
  {
   "cell_type": "markdown",
   "source": [
    "Начальный интервал для метода дихотомии находим из $\\cot(\\sqrt{2a^2U_{0}(1 + \\frac{E}{U_{0}})}) = 0$\n",
    "Тогда $\\sqrt{2a^2U_{0}(1 + \\frac{E}{U_{0}})} = \\frac{\\pi}{2} + \\pi n$\n",
    "И $E = \\frac{\\pi^2}{8a^2} - U_{0}$"
   ],
   "metadata": {
    "collapsed": false
   }
  },
  {
   "cell_type": "code",
   "execution_count": 4,
   "outputs": [],
   "source": [
    "def dichotomy(a, b, error=precision):\n",
    "\tmiddle = (a + b) / 2\n",
    "\tcurError = (b - a) / 2\n",
    "\tif curError < error:\n",
    "\t\treturn middle\n",
    "\tif f(middle) * f(a) <= 0:\n",
    "\t\treturn dichotomy(a, middle)\n",
    "\telse:\n",
    "\t\treturn dichotomy(middle, b)\n",
    "\n",
    "x_0 = -U0\n",
    "x_1 = (np.pi ** 2) / (8 * a ** 2) - U0\n",
    "dichotomyRoot = dichotomy(x_0, x_1)\n",
    "\n",
    "# в качестве начального приближения возьмем корень, полученный методом дихотомии\n",
    "x_initial = -U0\n",
    "Lambda = 1 / df(dichotomyRoot) + 0.000000000000000000001\n",
    "\n",
    "def fixedPointIteration(x, x0=x_initial, error=precision):\n",
    "\tif np.abs(1 - Lambda * df(x)) < 1:\n",
    "\t\tvalue = x - Lambda * f(x)\n",
    "\t\tcurError = np.abs(x0 - x)\n",
    "\t\tif curError > error:\n",
    "\t\t\treturn fixedPointIteration(value, x)\n",
    "\t\telse:\n",
    "\t\t\treturn x\n",
    "\n",
    "fixPointIterRoot = fixedPointIteration(E0)\n",
    "\n",
    "def Newton(x, x0=x_initial, error=precision):\n",
    "\tx_next = x - f(x) / df(x)\n",
    "\tcurError = np.abs(x0 - x)\n",
    "\tif curError > error:\n",
    "\t\treturn Newton(x_next, x)\n",
    "\telse:\n",
    "\t\treturn x\n",
    "\n",
    "newtonRoot = Newton(E0)"
   ],
   "metadata": {
    "collapsed": false
   }
  },
  {
   "cell_type": "code",
   "execution_count": 5,
   "outputs": [
    {
     "name": "stdout",
     "output_type": "stream",
     "text": [
      "NewtonMethod               -0.6038978338633947\n",
      "f(-0.6038978338633947) = 3.3306690738754696e-16\n",
      "FixedPointIterationsMethod -0.6038978338633941\n",
      "f(-0.6038978338633941) = -1.4432899320127035e-15\n",
      "DichotomyMethod            -0.603897833863403\n",
      "f(-0.603897833863403) = 3.008704396734174e-14\n"
     ]
    }
   ],
   "source": [
    "print('NewtonMethod               ' + str(newtonRoot))\n",
    "print('f({}) = {}'.format(newtonRoot, f(newtonRoot)))\n",
    "print('FixedPointIterationsMethod ' + str(fixPointIterRoot))\n",
    "print('f({}) = {}'.format(fixPointIterRoot, f(fixPointIterRoot)))\n",
    "print('DichotomyMethod            ' + str(dichotomyRoot))\n",
    "print('f({}) = {}'.format(dichotomyRoot, f(dichotomyRoot)))"
   ],
   "metadata": {
    "collapsed": false
   }
  }
 ],
 "metadata": {
  "kernelspec": {
   "display_name": "Python 3",
   "language": "python",
   "name": "python3"
  },
  "language_info": {
   "codemirror_mode": {
    "name": "ipython",
    "version": 2
   },
   "file_extension": ".py",
   "mimetype": "text/x-python",
   "name": "python",
   "nbconvert_exporter": "python",
   "pygments_lexer": "ipython2",
   "version": "2.7.6"
  }
 },
 "nbformat": 4,
 "nbformat_minor": 0
}
