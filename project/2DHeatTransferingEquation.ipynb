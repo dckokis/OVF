{
 "cells": [
  {
   "cell_type": "code",
   "execution_count": 1,
   "outputs": [],
   "source": [
    "import numpy as np\n",
    "\n",
    "from Animation import AnimateSolution2D, AnimateSolution3D\n",
    "from CrankNicholsonSolver import Solver"
   ],
   "metadata": {
    "collapsed": false
   }
  },
  {
   "cell_type": "markdown",
   "source": [
    "# Условие задачи\n",
    "![title](Task.png)"
   ],
   "metadata": {
    "collapsed": false
   }
  },
  {
   "cell_type": "markdown",
   "source": [
    "# Решение уравнения теплопроводности с источником тепла в 2D области\n",
    "## Интенсивность источника тепла\n",
    "$$ƒ(x, y, t) = \\left( 1 - \\frac{x^{2}}{L^{2}} \\right)*\\left( 1 - \\frac{y^{2}}{L^{2}} \\right)$$"
   ],
   "metadata": {
    "collapsed": false
   }
  },
  {
   "cell_type": "code",
   "execution_count": 2,
   "outputs": [],
   "source": [
    "def f(x, y):\n",
    "    return (1 - x ** 2 / L ** 2) * (1 - y ** 2 / L ** 2)"
   ],
   "metadata": {
    "collapsed": false
   }
  },
  {
   "cell_type": "markdown",
   "source": [
    "## Параметры задачи\n",
    " $L = 1; \\ T = 1; \\ dt = 0.01 $"
   ],
   "metadata": {
    "collapsed": false
   }
  },
  {
   "cell_type": "code",
   "execution_count": 3,
   "outputs": [],
   "source": [
    "L = 1\n",
    "\n",
    "dt = 0.01\n",
    "T = 1\n",
    "\n",
    "nx = 100\n",
    "ny = 100\n",
    "x0, x1, y0, y1 = (-L, L, -L, L)"
   ],
   "metadata": {
    "collapsed": false
   }
  },
  {
   "cell_type": "markdown",
   "source": [
    "## Решение уравнения локально-одномерным методом\n",
    "На каждом шаге по времени отдельно рассматриваем распространение тепла по $x$ и по $y$.\n",
    "В качестве схемы используем схему Кранка-Николсона"
   ],
   "metadata": {
    "collapsed": false
   }
  },
  {
   "cell_type": "code",
   "execution_count": 4,
   "outputs": [
    {
     "name": "stdout",
     "output_type": "stream",
     "text": [
      "CPU times: user 1.24 s, sys: 620 ms, total: 1.86 s\n",
      "Wall time: 572 ms\n"
     ]
    }
   ],
   "source": [
    "%%time\n",
    "x_solvers = [Solver(x0, x1, nx, dt) for _ in range(ny)]\n",
    "y_solvers = [Solver(y0, y1, ny, dt) for _ in range(nx)]\n",
    "\n",
    "X, Y = np.meshgrid(x_solvers[0].xs, y_solvers[0].xs)\n",
    "frames = []\n",
    "solution = np.vectorize(f, otypes=[float])(X, Y)\n",
    "\n",
    "for i in range(int(T / dt)):\n",
    "    frames.append(np.copy(solution))\n",
    "    for j, s in enumerate(x_solvers):\n",
    "        solution[j + 1, :] = s.do_step(solution[j + 1, :])\n",
    "    for j, s in enumerate(y_solvers):\n",
    "        solution[:, j + 1] = s.do_step(solution[:, j + 1])"
   ],
   "metadata": {
    "collapsed": false
   }
  },
  {
   "cell_type": "markdown",
   "source": [
    "## Отображение полученного решения\n",
    "### Распространение тепла в 3D\n"
   ],
   "metadata": {
    "collapsed": false
   }
  },
  {
   "cell_type": "code",
   "execution_count": 5,
   "outputs": [],
   "source": [
    "AnimateSolution3D(X, Y, frames)"
   ],
   "metadata": {
    "collapsed": false
   }
  },
  {
   "cell_type": "markdown",
   "source": [
    "### Распространение тепла в 2D"
   ],
   "metadata": {
    "collapsed": false
   }
  },
  {
   "cell_type": "code",
   "execution_count": 6,
   "outputs": [
    {
     "name": "stderr",
     "output_type": "stream",
     "text": [
      "invalid command name \"4716024512_on_timer\"\n",
      "    while executing\n",
      "\"4716024512_on_timer\"\n",
      "    (\"after\" script)\n"
     ]
    }
   ],
   "source": [
    "AnimateSolution2D(X, Y, frames)"
   ],
   "metadata": {
    "collapsed": false
   }
  },
  {
   "cell_type": "code",
   "execution_count": 8,
   "outputs": [],
   "source": [
    "import matplotlib.pyplot as plt\n",
    "\n",
    "temperature_in_center = np.zeros(len(frames))\n",
    "\n",
    "for i in range(len(frames)):\n",
    "    temperature_in_center[i] = np.array(frames[i])[int(nx / 2), int(ny / 2)]\n",
    "\n",
    "t = np.arange(0, T, dt)\n",
    "plt.plot(t, temperature_in_center)\n",
    "plt.plot(t, np.exp(-4.5 * t), ':')\n",
    "plt.title('Temperature in the center')\n",
    "plt.xlabel('T')\n",
    "plt.ylabel('time')\n",
    "plt.show()"
   ],
   "metadata": {
    "collapsed": false
   }
  }
 ],
 "metadata": {
  "kernelspec": {
   "display_name": "Python 3",
   "language": "python",
   "name": "python3"
  },
  "language_info": {
   "codemirror_mode": {
    "name": "ipython",
    "version": 2
   },
   "file_extension": ".py",
   "mimetype": "text/x-python",
   "name": "python",
   "nbconvert_exporter": "python",
   "pygments_lexer": "ipython2",
   "version": "2.7.6"
  }
 },
 "nbformat": 4,
 "nbformat_minor": 0
}
