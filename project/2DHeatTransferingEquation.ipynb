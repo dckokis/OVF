{
 "cells": [
  {
   "cell_type": "code",
   "execution_count": 7,
   "outputs": [],
   "source": [
    "from CrankNicholsonSolver import Solver\n",
    "from Animation import AnimateSolution2D, AnimateSolution3D\n",
    "import numpy as np"
   ],
   "metadata": {
    "collapsed": false
   }
  },
  {
   "cell_type": "markdown",
   "source": [
    "# Условие задачи\n",
    "![title](Task.png)"
   ],
   "metadata": {
    "collapsed": false
   }
  },
  {
   "cell_type": "markdown",
   "source": [
    "# Решение уравнения теплопроводности с источником тепла в 2D области\n",
    "## Интенсивность источника тепла\n",
    "$$ƒ(x, y, t) = \\left( 1 - \\frac{x^{2}}{L^{2}} \\right)*\\left( 1 - \\frac{y^{2}}{L^{2}} \\right)$$"
   ],
   "metadata": {
    "collapsed": false
   }
  },
  {
   "cell_type": "code",
   "execution_count": 8,
   "outputs": [],
   "source": [
    "def f(x, y):\n",
    "    return (1 - x ** 2 / L ** 2) * (1 - y ** 2 / L ** 2)"
   ],
   "metadata": {
    "collapsed": false
   }
  },
  {
   "cell_type": "markdown",
   "source": [
    "## Параметры задачи\n",
    " $L = 1; \\ T = 1; \\ dt = 0.01 $"
   ],
   "metadata": {
    "collapsed": false
   }
  },
  {
   "cell_type": "code",
   "execution_count": 9,
   "outputs": [],
   "source": [
    "L = 1\n",
    "\n",
    "dt = 0.01\n",
    "T = 1\n",
    "\n",
    "nx = 100\n",
    "ny = 100\n",
    "x0, x1, y0, y1 = (-L, L, -L, L)"
   ],
   "metadata": {
    "collapsed": false
   }
  },
  {
   "cell_type": "markdown",
   "source": [
    "## Решение уравнения локально-одномерным методом\n",
    "На каждом шаге по времени отдельно рассматриваем распространение тепла по $x$ и по $y$.\n",
    "В качестве схемы используем схему Кранка-Николсона"
   ],
   "metadata": {
    "collapsed": false
   }
  },
  {
   "cell_type": "code",
   "execution_count": 10,
   "outputs": [
    {
     "name": "stdout",
     "output_type": "stream",
     "text": [
      "CPU times: user 503 ms, sys: 8.8 ms, total: 512 ms\n",
      "Wall time: 509 ms\n"
     ]
    }
   ],
   "source": [
    "%%time\n",
    "x_solvers = [Solver(x0, x1, nx, dt) for _ in range(ny)]\n",
    "y_solvers = [Solver(y0, y1, ny, dt) for _ in range(nx)]\n",
    "\n",
    "X, Y = np.meshgrid(x_solvers[0].xs, y_solvers[0].xs)\n",
    "frames = []\n",
    "solution = np.vectorize(f, otypes=[float])(X, Y)\n",
    "\n",
    "for i in range(int(T / dt)):\n",
    "    frames.append(np.copy(solution))\n",
    "\n",
    "    for j, s in enumerate(x_solvers):\n",
    "        solution[j + 1, :] = s.do_step(solution[j + 1, :])\n",
    "    for j, s in enumerate(y_solvers):\n",
    "        solution[:, j + 1] = s.do_step(solution[:, j + 1])"
   ],
   "metadata": {
    "collapsed": false
   }
  },
  {
   "cell_type": "markdown",
   "source": [
    "## Отображение полученного решения\n",
    "### Распространение тепла в 3D\n"
   ],
   "metadata": {
    "collapsed": false
   }
  },
  {
   "cell_type": "code",
   "execution_count": 11,
   "outputs": [],
   "source": [
    "AnimateSolution3D(X, Y, frames)"
   ],
   "metadata": {
    "collapsed": false
   }
  },
  {
   "cell_type": "markdown",
   "source": [
    "### Распространение тепла в 2D"
   ],
   "metadata": {
    "collapsed": false
   }
  },
  {
   "cell_type": "code",
   "execution_count": 12,
   "outputs": [],
   "source": [
    "AnimateSolution2D(X, Y, frames)"
   ],
   "metadata": {
    "collapsed": false
   }
  }
 ],
 "metadata": {
  "kernelspec": {
   "display_name": "Python 3",
   "language": "python",
   "name": "python3"
  },
  "language_info": {
   "codemirror_mode": {
    "name": "ipython",
    "version": 2
   },
   "file_extension": ".py",
   "mimetype": "text/x-python",
   "name": "python",
   "nbconvert_exporter": "python",
   "pygments_lexer": "ipython2",
   "version": "2.7.6"
  }
 },
 "nbformat": 4,
 "nbformat_minor": 0
}
