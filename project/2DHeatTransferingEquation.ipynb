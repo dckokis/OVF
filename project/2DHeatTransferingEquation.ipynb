{
 "cells": [
  {
   "cell_type": "code",
   "execution_count": 15,
   "outputs": [],
   "source": [
    "from matplotlib import animation\n",
    "from matplotlib import pyplot as plt\n",
    "\n",
    "from CrankNicholsonSolver import Solver\n",
    "\n",
    "import numpy as np\n",
    "import matplotlib\n",
    "\n",
    "matplotlib.use(\"TkAgg\")"
   ],
   "metadata": {
    "collapsed": false
   }
  },
  {
   "cell_type": "markdown",
   "source": [
    "![title](Task.png)"
   ],
   "metadata": {
    "collapsed": false
   }
  },
  {
   "cell_type": "markdown",
   "source": [
    "## Вспомогательные функции для анимации"
   ],
   "metadata": {
    "collapsed": false
   }
  },
  {
   "cell_type": "code",
   "execution_count": 16,
   "outputs": [],
   "source": [
    "def AnimateSolution2D(xx: np.array, yy: np.array, zz: list):\n",
    "    def update_plot_2D(frame):\n",
    "        nonlocal plot\n",
    "        plot.remove()\n",
    "        plot = plot = ax.pcolormesh(xx, yy, zz[frame], cmap='magma', vmin=0, vmax=1)\n",
    "        return plot,\n",
    "\n",
    "    fig = plt.figure(figsize=(100, 100), dpi=200)\n",
    "    ax = plt.axes()\n",
    "    plot = ax.pcolormesh(xx, yy, zz[0])\n",
    "    fig.colorbar(plot, ax=ax)\n",
    "    ax.set_title('2D Heat map')\n",
    "    anim = animation.FuncAnimation(fig, update_plot_2D, len(zz), interval=30)\n",
    "    plt.show()\n",
    "\n",
    "\n",
    "def AnimateSolution3D(xx: np.array, yy: np.array, zz: list):\n",
    "    def update_plot(frame):\n",
    "        nonlocal plot\n",
    "        plot.remove()\n",
    "        plot = ax.plot_surface(xx, yy, zz[frame], cmap='magma', vmin=0, vmax=1)\n",
    "        return plot,\n",
    "\n",
    "    fig = plt.figure(figsize=(100, 100), dpi=200)\n",
    "    ax = plt.axes(projection='3d')\n",
    "    ax.set_zlim(0, 1)\n",
    "    plot = ax.plot_surface(xx, yy, zz[0])\n",
    "    fig.colorbar(plot, ax=ax)\n",
    "    ax.set_title('Heat map')\n",
    "    anim = animation.FuncAnimation(fig, update_plot, len(zz), interval=30)\n",
    "    plt.show()"
   ],
   "metadata": {
    "collapsed": false
   }
  },
  {
   "cell_type": "markdown",
   "source": [
    "## Интенсивность источника тепла\n",
    "$$ƒ(x, y, t) = \\left( 1 - \\frac{x^{2}}{L^{2}} \\right)*\\left( 1 - \\frac{y^{2}}{L^{2}} \\right)$$"
   ],
   "metadata": {
    "collapsed": false
   }
  },
  {
   "cell_type": "code",
   "execution_count": 17,
   "outputs": [],
   "source": [
    "def f(x, y):\n",
    "    return (1 - x ** 2 / L ** 2) * (1 - y ** 2 / L ** 2)"
   ],
   "metadata": {
    "collapsed": false
   }
  },
  {
   "cell_type": "markdown",
   "source": [
    "## Параметры задачи\n",
    " $L = 1; \\ T = 1; \\ dt = 0.01 $"
   ],
   "metadata": {
    "collapsed": false
   }
  },
  {
   "cell_type": "code",
   "execution_count": 18,
   "outputs": [],
   "source": [
    "L = 1\n",
    "\n",
    "dt = 0.001\n",
    "T = 1\n",
    "\n",
    "nx = 1000\n",
    "ny = 1000\n",
    "x0, x1, y0, y1 = (-L, L, -L, L)"
   ],
   "metadata": {
    "collapsed": false
   }
  },
  {
   "cell_type": "markdown",
   "source": [
    "## Решение уравнения локально-одномерным методом\n",
    "На каждом шаге по времени отдельно рассматриваем распространение тепла по $x$ и по $y$.\n",
    "В качестве схемы используем схему Кранка-Николсона"
   ],
   "metadata": {
    "collapsed": false
   }
  },
  {
   "cell_type": "code",
   "execution_count": 19,
   "outputs": [
    {
     "name": "stdout",
     "output_type": "stream",
     "text": [
      "CPU times: user 4min 43s, sys: 2.26 s, total: 4min 45s\n",
      "Wall time: 4min 45s\n"
     ]
    }
   ],
   "source": [
    "%%time\n",
    "x_solvers = [Solver(x0, x1, nx, dt / 2) for _ in range(ny)]\n",
    "y_solvers = [Solver(y0, y1, ny, dt / 2) for _ in range(nx)]\n",
    "\n",
    "X, Y = np.meshgrid(x_solvers[0].xs, y_solvers[0].xs)\n",
    "frames = []\n",
    "solution = np.vectorize(f, otypes=[float])(X, Y)\n",
    "\n",
    "for i in range(int(T / dt)):\n",
    "    frames.append(np.copy(solution))\n",
    "\n",
    "    for j, s in enumerate(x_solvers):\n",
    "        solution[j + 1, :] = s.do_step(solution[j + 1, :])\n",
    "    for j, s in enumerate(y_solvers):\n",
    "        solution[:, j + 1] = s.do_step(solution[:, j + 1])"
   ],
   "metadata": {
    "collapsed": false
   }
  },
  {
   "cell_type": "markdown",
   "source": [
    "### Распространение тепла в 3D"
   ],
   "metadata": {
    "collapsed": false
   }
  },
  {
   "cell_type": "code",
   "execution_count": 20,
   "outputs": [],
   "source": [
    "AnimateSolution3D(X, Y, frames)"
   ],
   "metadata": {
    "collapsed": false
   }
  },
  {
   "cell_type": "markdown",
   "source": [
    "### Распространение тепла в 2D"
   ],
   "metadata": {
    "collapsed": false
   }
  },
  {
   "cell_type": "code",
   "execution_count": 21,
   "outputs": [],
   "source": [
    "AnimateSolution2D(X, Y, frames)"
   ],
   "metadata": {
    "collapsed": false
   }
  }
 ],
 "metadata": {
  "kernelspec": {
   "display_name": "Python 3",
   "language": "python",
   "name": "python3"
  },
  "language_info": {
   "codemirror_mode": {
    "name": "ipython",
    "version": 2
   },
   "file_extension": ".py",
   "mimetype": "text/x-python",
   "name": "python",
   "nbconvert_exporter": "python",
   "pygments_lexer": "ipython2",
   "version": "2.7.6"
  }
 },
 "nbformat": 4,
 "nbformat_minor": 0
}
